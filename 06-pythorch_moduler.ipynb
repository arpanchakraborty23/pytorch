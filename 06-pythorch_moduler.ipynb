{
 "cells": [
  {
   "cell_type": "markdown",
   "id": "d9b85dd5",
   "metadata": {},
   "source": [
    "# What is going modular?\n",
    "Going modular involves turning notebook code (from a Jupyter Notebook or Google Colab notebook) into a series of different Python scripts that offer similar functionality.\n",
    "\n",
    "*Note:* The naming and layout of the above files will depend on your use case and code requirements. Python scripts are as general as individual notebook cells, meaning, you could create one for almost any kind of functionality.\n",
    "\n",
    "# My workflow\n",
    "I usually start machine learning projects in Jupyter/Google Colab notebooks for quick experimentation and visualization.\n",
    "\n",
    "Then when I've got something working, I move the most useful pieces of code to Python scripts."
   ]
  },
  {
   "cell_type": "code",
   "execution_count": null,
   "metadata": {},
   "outputs": [],
   "source": []
  }
 ],
 "metadata": {
  "kernelspec": {
   "display_name": "Python 3",
   "language": "python",
   "name": "python3"
  },
  "language_info": {
   "name": "python",
   "version": "3.12.0"
  }
 },
 "nbformat": 4,
 "nbformat_minor": 5
}
